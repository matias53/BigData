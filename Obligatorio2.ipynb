{
 "cells": [
  {
   "cell_type": "markdown",
   "metadata": {},
   "source": [
    "Imprimo la hubicacion de la variable de entorno JAVA_HOME\n",
    "\n",
    "Debe ser JAVA 64bits y la ruta no debe tener espacios ( Windows )"
   ]
  },
  {
   "cell_type": "code",
   "execution_count": 2,
   "metadata": {},
   "outputs": [
    {
     "name": "stdout",
     "output_type": "stream",
     "text": [
      "C:\\Progra~1\\Java\\jre1.8.0_271\n"
     ]
    }
   ],
   "source": [
    "echo %JAVA_HOME%"
   ]
  },
  {
   "cell_type": "markdown",
   "metadata": {},
   "source": [
    "Se configura pyspark para utilizar 20GB de RAM"
   ]
  },
  {
   "cell_type": "code",
   "execution_count": 3,
   "metadata": {},
   "outputs": [],
   "source": [
    "import os\n",
    "import pyspark\n",
    "\n",
    "memory = '20g'\n",
    "pyspark_submit_args = ' --driver-memory ' + memory + ' pyspark-shell'\n",
    "os.environ[\"PYSPARK_SUBMIT_ARGS\"] = pyspark_submit_args\n",
    "\n",
    "sc = pyspark.SparkContext('local[*]')"
   ]
  },
  {
   "cell_type": "code",
   "execution_count": 4,
   "metadata": {},
   "outputs": [],
   "source": [
    "from pyspark.sql.types import StructType, DateType, IntegerType, StringType, DoubleType, BooleanType\n",
    "from pyspark.sql.functions import datediff"
   ]
  },
  {
   "cell_type": "code",
   "execution_count": 5,
   "metadata": {},
   "outputs": [],
   "source": [
    "sqlContext = pyspark.SQLContext(sc)"
   ]
  },
  {
   "cell_type": "markdown",
   "metadata": {},
   "source": [
    "Date – The date of the file in yyyy-mm-dd format.\n",
    "\n",
    "Serial Number – The manufacturer-assigned serial number of the drive.\n",
    "\n",
    "Model – The manufacturer-assigned model number of the drive.\n",
    "\n",
    "Capacity – The drive capacity in bytes.\n",
    "\n",
    "Failure – Contains a “0” if the drive is OK. Contains a “1” if this is the last day the drive was operational before failing.\n"
   ]
  },
  {
   "cell_type": "code",
   "execution_count": 6,
   "metadata": {},
   "outputs": [],
   "source": [
    "schema = StructType() \\\n",
    "      .add(\"Date\", DateType(),True) \\\n",
    "      .add(\"Serial_Number\",StringType(),True) \\\n",
    "      .add(\"Model\",StringType(),True) \\\n",
    "      .add(\"Capacity\",DoubleType(),True) \\\n",
    "      .add(\"Failure\",IntegerType(),True)"
   ]
  },
  {
   "cell_type": "code",
   "execution_count": 7,
   "metadata": {},
   "outputs": [],
   "source": [
    "dia = sqlContext.read.options(header='True', delimiter=',') \\\n",
    "        .schema(schema) \\\n",
    "        .csv(\"../bigdata/**\")"
   ]
  },
  {
   "cell_type": "code",
   "execution_count": 8,
   "metadata": {},
   "outputs": [
    {
     "name": "stdout",
     "output_type": "stream",
     "text": [
      "root\n",
      " |-- Date: date (nullable = true)\n",
      " |-- Serial_Number: string (nullable = true)\n",
      " |-- Model: string (nullable = true)\n",
      " |-- Capacity: double (nullable = true)\n",
      " |-- Failure: integer (nullable = true)\n",
      "\n"
     ]
    }
   ],
   "source": [
    "dia.printSchema()"
   ]
  },
  {
   "cell_type": "code",
   "execution_count": 9,
   "metadata": {},
   "outputs": [],
   "source": [
    "dia.registerTempTable(\"diskData\")"
   ]
  },
  {
   "cell_type": "code",
   "execution_count": 10,
   "metadata": {},
   "outputs": [
    {
     "name": "stdout",
     "output_type": "stream",
     "text": [
      "+--------+---------+-----------+\n",
      "|database|tableName|isTemporary|\n",
      "+--------+---------+-----------+\n",
      "|        | diskdata|       true|\n",
      "+--------+---------+-----------+\n",
      "\n"
     ]
    }
   ],
   "source": [
    "sqlContext.sql('show tables').show()"
   ]
  },
  {
   "cell_type": "markdown",
   "metadata": {},
   "source": [
    "Total de discos Discos del Datacenter con su fecha de Puesta en funcionamiento y dia de retiro"
   ]
  },
  {
   "cell_type": "code",
   "execution_count": 11,
   "metadata": {},
   "outputs": [],
   "source": [
    "df_AllDisksDayInDayOut = sqlContext.sql('Select Serial_Number, Model, Min(Date) as DayIn, Max(Date) as DayOut, Count(1) as Count from diskData group by Serial_Number, Model order by Model')"
   ]
  },
  {
   "cell_type": "code",
   "execution_count": 12,
   "metadata": {},
   "outputs": [],
   "source": [
    "df_AllDisksDayInDayOut.createOrReplaceTempView('tbl_AllDisksDayInDayOut')"
   ]
  },
  {
   "cell_type": "markdown",
   "metadata": {},
   "source": [
    "Cantidad de discos por modelo que existen."
   ]
  },
  {
   "cell_type": "code",
   "execution_count": null,
   "metadata": {},
   "outputs": [],
   "source": [
    "sqlContext.sql('Select Model, Count(1) as Count from tbl_AllDisksDayInDayOut group by Model order by Count').show()"
   ]
  },
  {
   "cell_type": "raw",
   "metadata": {},
   "source": [
    "Listar la cantidad promedio de días que un dura un disco duro en operacion según su modelo."
   ]
  },
  {
   "cell_type": "code",
   "execution_count": null,
   "metadata": {},
   "outputs": [],
   "source": [
    "F_averagedia = sqlContext.sql('Select CAST(AVG(Diff) AS DECIMAL(10,2)) as Days, Model from (Select DATEDIFF(Max(Date), Min(Date)) as Diff, Serial_Number, Model from diskData group by Serial_Number, Model order by Model) As TableB Group by Model order by Days desc').show()"
   ]
  },
  {
   "cell_type": "code",
   "execution_count": null,
   "metadata": {},
   "outputs": [],
   "source": []
  },
  {
   "cell_type": "code",
   "execution_count": null,
   "metadata": {},
   "outputs": [],
   "source": [
    "sqlContext.sql('Select Count(1) as Cuenta, Model from diskData group by Model, Serial_Number order by Cuenta desc').show()"
   ]
  },
  {
   "cell_type": "code",
   "execution_count": null,
   "metadata": {},
   "outputs": [],
   "source": [
    "sqlContext.sql('Select Count(1) as Cuenta, Model from diskData group by Model, Serial_Number order by Cuenta desc')\\\n",
    "          .repartition(1)\\\n",
    "          .write.format(\"parquet\")\\\n",
    "          .save(\"output/parquet/transacciones\", mode=\"OVERWRITE\")"
   ]
  },
  {
   "cell_type": "code",
   "execution_count": null,
   "metadata": {},
   "outputs": [],
   "source": [
    "df_averagedia.createOrReplaceTempView('tblAverageDia')"
   ]
  },
  {
   "cell_type": "markdown",
   "metadata": {},
   "source": [
    "Cantidad de GB por modelo de disco duro"
   ]
  },
  {
   "cell_type": "code",
   "execution_count": null,
   "metadata": {},
   "outputs": [],
   "source": [
    "sqlContext.sql('select AVG(Cap), Model from(select AVG(Capacity) as Cap, Model, Serial_Number from diskData group by Serial_Number) as TableB group by TableB.Model').show()"
   ]
  },
  {
   "cell_type": "markdown",
   "metadata": {},
   "source": [
    "Top 5 modeos de discos más confiables por año"
   ]
  },
  {
   "cell_type": "code",
   "execution_count": null,
   "metadata": {},
   "outputs": [],
   "source": [
    "sqlContext.sql('Select CAST(AVG(Diff) AS DECIMAL(10,2)) as Days, Model from (Select DATEDIFF(Max(Date), Min(Date)) as Diff, Serial_Number, Model from diskData group by Serial_Number, Model order by Model) As TableB Group by Model order by Days desc').show()"
   ]
  },
  {
   "cell_type": "markdown",
   "metadata": {},
   "source": [
    "Top 5 modeos de discos más confiables por año"
   ]
  },
  {
   "cell_type": "code",
   "execution_count": null,
   "metadata": {},
   "outputs": [],
   "source": [
    "sqlContext.sql('select DISTINCT count(1) as Cuenta, Model from diskData where group by Model, Serial_Number order by Cuenta desc').show(150)"
   ]
  },
  {
   "cell_type": "code",
   "execution_count": null,
   "metadata": {},
   "outputs": [],
   "source": [
    "sqlContext.sql('select Serial_Number, count(1) from diskData group by Serial_Number order by count(1) desc').show(150)"
   ]
  },
  {
   "cell_type": "code",
   "execution_count": null,
   "metadata": {},
   "outputs": [],
   "source": [
    "sqlContext.sql('select Date, Serial_Number, Model, Capacity, Failure from diskData where Failure = 1 and month(Date) = 2 and year(Date)=2020').show()"
   ]
  },
  {
   "cell_type": "code",
   "execution_count": null,
   "metadata": {},
   "outputs": [],
   "source": [
    "selectedData = dia.select(\"Date\", \"Serial_Number\")"
   ]
  },
  {
   "cell_type": "code",
   "execution_count": null,
   "metadata": {},
   "outputs": [],
   "source": [
    "selectedData.write.csv('test2.csv')"
   ]
  },
  {
   "cell_type": "code",
   "execution_count": null,
   "metadata": {},
   "outputs": [],
   "source": []
  }
 ],
 "metadata": {
  "kernelspec": {
   "display_name": "Python 3",
   "language": "python",
   "name": "python3"
  },
  "language_info": {
   "codemirror_mode": {
    "name": "ipython",
    "version": 3
   },
   "file_extension": ".py",
   "mimetype": "text/x-python",
   "name": "python",
   "nbconvert_exporter": "python",
   "pygments_lexer": "ipython3",
   "version": "3.8.3"
  }
 },
 "nbformat": 4,
 "nbformat_minor": 4
}
