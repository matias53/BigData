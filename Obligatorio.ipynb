{
 "cells": [
  {
   "cell_type": "markdown",
   "metadata": {},
   "source": [
    "## Defino el ambiente. "
   ]
  },
  {
   "cell_type": "markdown",
   "metadata": {},
   "source": [
    "Imprimo la ubicacion de la variable de entorno JAVA_HOME\n",
    "\n",
    "Debe ser JAVA 64bits y la ruta no debe tener espacios ( Windows )"
   ]
  },
  {
   "cell_type": "code",
   "execution_count": 1,
   "metadata": {},
   "outputs": [
    {
     "name": "stdout",
     "output_type": "stream",
     "text": [
      "C:\\Progra~1\\Java\\jre1.8.0_271\n"
     ]
    }
   ],
   "source": [
    "echo %JAVA_HOME%"
   ]
  },
  {
   "cell_type": "markdown",
   "metadata": {},
   "source": [
    "Se configura pyspark para utilizar 20GB de RAM"
   ]
  },
  {
   "cell_type": "code",
   "execution_count": 2,
   "metadata": {},
   "outputs": [],
   "source": [
    "import os\n",
    "import pyspark\n",
    "\n",
    "memory = '20g'\n",
    "pyspark_submit_args = ' --driver-memory ' + memory + ' pyspark-shell'\n",
    "os.environ[\"PYSPARK_SUBMIT_ARGS\"] = pyspark_submit_args\n",
    "\n",
    "sc = pyspark.SparkContext('local[*]')"
   ]
  },
  {
   "cell_type": "code",
   "execution_count": 3,
   "metadata": {},
   "outputs": [],
   "source": [
    "from pyspark.sql.types import StructType, DateType, IntegerType, StringType, DoubleType, BooleanType\n",
    "from pyspark.sql.functions import datediff\n",
    "import pandas as pd\n",
    "import numpy as np"
   ]
  },
  {
   "cell_type": "code",
   "execution_count": 4,
   "metadata": {},
   "outputs": [],
   "source": [
    "sqlContext = pyspark.SQLContext(sc)"
   ]
  },
  {
   "cell_type": "markdown",
   "metadata": {},
   "source": [
    "Defino el esquema de la tabla principal de los datos que se obtienen a partir de los CSVs.\n",
    "\n",
    "Date – The date of the file in yyyy-mm-dd format.  \n",
    "Serial Number – The manufacturer-assigned serial number of the drive.  \n",
    "Model – The manufacturer-assigned model number of the drive.  \n",
    "Capacity – The drive capacity in bytes.  \n",
    "Failure – Contains a “0” if the drive is OK. Contains a “1” if this is the last day the drive was operational before failing."
   ]
  },
  {
   "cell_type": "code",
   "execution_count": 5,
   "metadata": {},
   "outputs": [],
   "source": [
    "schema = StructType() \\\n",
    "      .add(\"Date\", DateType(),True) \\\n",
    "      .add(\"Serial_Number\",StringType(),True) \\\n",
    "      .add(\"Model\",StringType(),True) \\\n",
    "      .add(\"capacity_bytes\",DoubleType(),True) \\\n",
    "      .add(\"Failure\",IntegerType(),True)"
   ]
  },
  {
   "cell_type": "markdown",
   "metadata": {},
   "source": [
    "Hago la lectura completa de los datos."
   ]
  },
  {
   "cell_type": "code",
   "execution_count": 6,
   "metadata": {},
   "outputs": [],
   "source": [
    "df_fullSet = sqlContext.read.options(header='True', delimiter=',') \\\n",
    "        .schema(schema) \\\n",
    "        .csv(\"../bigdata/**\")"
   ]
  },
  {
   "cell_type": "code",
   "execution_count": 7,
   "metadata": {},
   "outputs": [
    {
     "name": "stdout",
     "output_type": "stream",
     "text": [
      "root\n",
      " |-- Date: date (nullable = true)\n",
      " |-- Serial_Number: string (nullable = true)\n",
      " |-- Model: string (nullable = true)\n",
      " |-- capacity_bytes: double (nullable = true)\n",
      " |-- Failure: integer (nullable = true)\n",
      "\n"
     ]
    }
   ],
   "source": [
    "df_fullSet.printSchema()"
   ]
  },
  {
   "cell_type": "code",
   "execution_count": 8,
   "metadata": {},
   "outputs": [],
   "source": [
    "df_fullSet.write.mode('ignore').parquet(\"./output/fullSet.parquet\")"
   ]
  },
  {
   "cell_type": "code",
   "execution_count": 9,
   "metadata": {},
   "outputs": [],
   "source": [
    "df_fullSet_pq = sqlContext.read.load(\"./output/fullSet.parquet\")"
   ]
  },
  {
   "cell_type": "code",
   "execution_count": 10,
   "metadata": {},
   "outputs": [],
   "source": [
    "df_fullSet_pq.registerTempTable(\"tbl_AllDiskData\")"
   ]
  },
  {
   "cell_type": "code",
   "execution_count": 11,
   "metadata": {},
   "outputs": [
    {
     "name": "stdout",
     "output_type": "stream",
     "text": [
      "root\n",
      " |-- Date: date (nullable = true)\n",
      " |-- Serial_Number: string (nullable = true)\n",
      " |-- Model: string (nullable = true)\n",
      " |-- capacity_bytes: double (nullable = true)\n",
      " |-- Failure: integer (nullable = true)\n",
      "\n"
     ]
    }
   ],
   "source": [
    "df_fullSet_pq.printSchema()"
   ]
  },
  {
   "cell_type": "markdown",
   "metadata": {},
   "source": [
    "Creo un dataframe con el total de discos Discos del Datacenter con su fecha de puesta en funcionamiento y dia de retiro."
   ]
  },
  {
   "cell_type": "code",
   "execution_count": 12,
   "metadata": {},
   "outputs": [],
   "source": [
    "df_AllDisksDayInDayOut = sqlContext.sql('Select Serial_Number, Model, Min(Date) as DayIn, Max(Date) as DayOut, CAST(FIRST(capacity_bytes/1099511627776) AS DECIMAL(10,2)) as SizeInTB, Count(1) as DayCount from tbl_AllDiskData group by Serial_Number, Model order by Model')"
   ]
  },
  {
   "cell_type": "markdown",
   "metadata": {},
   "source": [
    "Guardo el resultado anterior como archivo de parquet comprimido para utilizar como de  futuras consultas y asi\n",
    "obtener mayor velocidad para la realizacion de futuras consultas."
   ]
  },
  {
   "cell_type": "code",
   "execution_count": 13,
   "metadata": {},
   "outputs": [],
   "source": [
    "df_AllDisksDayInDayOut.write.mode('ignore').parquet(\"./output/tbl_allDisksDayInDayOut.parquet\")"
   ]
  },
  {
   "cell_type": "markdown",
   "metadata": {},
   "source": [
    "Leo el resultado del parquet y lo cargo a un nuevo dataframe."
   ]
  },
  {
   "cell_type": "code",
   "execution_count": 14,
   "metadata": {},
   "outputs": [],
   "source": [
    "df_allDisksDayInDayOut_pq = sqlContext.read.load(\"./output/tbl_allDisksDayInDayOut.parquet\")"
   ]
  },
  {
   "cell_type": "markdown",
   "metadata": {},
   "source": [
    "Esquema de tabla df_allDisksDayInDayOut_pq"
   ]
  },
  {
   "cell_type": "code",
   "execution_count": 15,
   "metadata": {},
   "outputs": [
    {
     "name": "stdout",
     "output_type": "stream",
     "text": [
      "root\n",
      " |-- Serial_Number: string (nullable = true)\n",
      " |-- Model: string (nullable = true)\n",
      " |-- DayIn: date (nullable = true)\n",
      " |-- DayOut: date (nullable = true)\n",
      " |-- SizeInTB: decimal(10,2) (nullable = true)\n",
      " |-- DayCount: long (nullable = true)\n",
      "\n"
     ]
    }
   ],
   "source": [
    "df_allDisksDayInDayOut_pq.printSchema()"
   ]
  },
  {
   "cell_type": "markdown",
   "metadata": {},
   "source": [
    "Registro la tabla como tbl_AllDisksDayInDayOut."
   ]
  },
  {
   "cell_type": "code",
   "execution_count": 16,
   "metadata": {},
   "outputs": [],
   "source": [
    "df_allDisksDayInDayOut_pq.registerTempTable(\"tbl_AllDisksDayInDayOut\")"
   ]
  },
  {
   "cell_type": "markdown",
   "metadata": {},
   "source": [
    "Lista de tablas disponibles"
   ]
  },
  {
   "cell_type": "code",
   "execution_count": 17,
   "metadata": {},
   "outputs": [],
   "source": [
    "schemaMakers = StructType() \\\n",
    "      .add(\"Model\",StringType(),True) \\\n",
    "      .add(\"Maker\",StringType(),True)"
   ]
  },
  {
   "cell_type": "code",
   "execution_count": 18,
   "metadata": {},
   "outputs": [],
   "source": [
    "df_makers = sqlContext.read.options(header='True', delimiter=',') \\\n",
    "        .schema(schemaMakers) \\\n",
    "        .csv(\"./makers.csv\")"
   ]
  },
  {
   "cell_type": "code",
   "execution_count": 19,
   "metadata": {},
   "outputs": [],
   "source": [
    "df_makers.registerTempTable(\"tbl_makers\")"
   ]
  },
  {
   "cell_type": "code",
   "execution_count": 20,
   "metadata": {},
   "outputs": [
    {
     "name": "stdout",
     "output_type": "stream",
     "text": [
      "+--------+--------------------+-----------+\n",
      "|database|           tableName|isTemporary|\n",
      "+--------+--------------------+-----------+\n",
      "|        |     tbl_alldiskdata|       true|\n",
      "|        |tbl_alldisksdayin...|       true|\n",
      "|        |          tbl_makers|       true|\n",
      "+--------+--------------------+-----------+\n",
      "\n"
     ]
    }
   ],
   "source": [
    "sqlContext.sql('show tables').show()"
   ]
  },
  {
   "cell_type": "markdown",
   "metadata": {},
   "source": [
    "##  Comienzo con las consultas."
   ]
  },
  {
   "cell_type": "markdown",
   "metadata": {},
   "source": [
    "#### Total de discos que existieron en el datacenter agrupados por modelo."
   ]
  },
  {
   "cell_type": "code",
   "execution_count": 21,
   "metadata": {},
   "outputs": [
    {
     "name": "stdout",
     "output_type": "stream",
     "text": [
      "+--------------------+-----+\n",
      "|               Model|Count|\n",
      "+--------------------+-----+\n",
      "|       ST12000NM0007|38730|\n",
      "|         ST4000DM000|37035|\n",
      "|       ST12000NM0008|18470|\n",
      "| TOSHIBA MG07ACA14TA|17476|\n",
      "|HGST HMS5C4040BLE640|16346|\n",
      "|        ST8000NM0055|15006|\n",
      "|HGST HUH721212ALN604|10917|\n",
      "|         ST8000DM002|10221|\n",
      "|HGST HMS5C4040ALE640| 8723|\n",
      "|       ST12000NM001G| 6158|\n",
      "|Hitachi HDS722020...| 4774|\n",
      "|         ST3000DM001| 4707|\n",
      "|Hitachi HDS5C3030...| 4664|\n",
      "|Hitachi HDS5C4040...| 2719|\n",
      "|HGST HUH721212ALE600| 2611|\n",
      "|       ST14000NM001G| 2400|\n",
      "|        ST31500541AS| 2188|\n",
      "|         ST6000DX000| 1939|\n",
      "|HGST HUH721212ALE604| 1911|\n",
      "|        WDC WD30EFRX| 1335|\n",
      "+--------------------+-----+\n",
      "only showing top 20 rows\n",
      "\n"
     ]
    }
   ],
   "source": [
    "sqlContext.sql('Select Model, Count(1) as Count from tbl_AllDisksDayInDayOut group by Model order by Count desc').show()"
   ]
  },
  {
   "cell_type": "markdown",
   "metadata": {},
   "source": [
    "#### Total de discos que existieron en el datacenter agrupados por fabricante."
   ]
  },
  {
   "cell_type": "code",
   "execution_count": 22,
   "metadata": {},
   "outputs": [],
   "source": [
    "disksPerMaker = sqlContext.sql('Select Makers.Maker, Sum(Disks.Count) as Total from (Select Maker, Model from tbl_makers) as Makers inner join (Select Model, Count(1) as Count from tbl_AllDisksDayInDayOut group by Model order by Count desc) as Disks on Disks.Model = Makers.Model group by Makers.Maker order by Maker desc')"
   ]
  },
  {
   "cell_type": "code",
   "execution_count": 23,
   "metadata": {},
   "outputs": [
    {
     "name": "stdout",
     "output_type": "stream",
     "text": [
      "+---------------+------+\n",
      "|          Maker| Total|\n",
      "+---------------+------+\n",
      "|Western Digital|  4025|\n",
      "|        Toshiba| 18844|\n",
      "|        Seagate|143144|\n",
      "|        Samsung|    18|\n",
      "|          Other|   100|\n",
      "|        Hitachi| 55094|\n",
      "+---------------+------+\n",
      "\n"
     ]
    }
   ],
   "source": [
    "disksPerMaker.show()"
   ]
  },
  {
   "cell_type": "code",
   "execution_count": 24,
   "metadata": {},
   "outputs": [
    {
     "data": {
      "text/plain": [
       "<matplotlib.axes._subplots.AxesSubplot at 0x1da21ba97c0>"
      ]
     },
     "execution_count": 24,
     "metadata": {},
     "output_type": "execute_result"
    },
    {
     "data": {
      "image/png": "[encoded data removed]",
      "text/plain": [
       "<Figure size 432x288 with 1 Axes>"
      ]
     },
     "metadata": {},
     "output_type": "display_data"
    }
   ],
   "source": [
    "disksPerMaker_pd = disksPerMaker.toPandas()\n",
    "disksPerMaker_pd.plot.pie(labels=['WD', 'Toshiba', 'Seagate', 'Samsung', 'Other', 'Hitachi'], explode=[0.1, 0.1, 0.1, 0.5, 0.5, 0],  y='Total', autopct='%.1f', legend=False, colors=['blue', 'red', 'green', 'yellow', 'cyan', 'orange'])"
   ]
  },
  {
   "cell_type": "markdown",
   "metadata": {},
   "source": [
    "#### Cantidad promedio de días que un dura un disco duro en operacion según su modelo, ordenados por cantidad de dias en operacion."
   ]
  },
  {
   "cell_type": "code",
   "execution_count": 25,
   "metadata": {},
   "outputs": [
    {
     "name": "stdout",
     "output_type": "stream",
     "text": [
      "+----+-----------------------+\n",
      "|Days|Model                  |\n",
      "+----+-----------------------+\n",
      "|1721|Hitachi HDS5C4040ALE630|\n",
      "|1590|WDC WD3200LPVX         |\n",
      "|1571|WDC WD2500AAJS         |\n",
      "|1495|WDC WD5000BPKT         |\n",
      "|1493|Hitachi HDS5C3030ALA630|\n",
      "|1477|Hitachi HDS5C3030BLE630|\n",
      "|1477|WDC WD3200AAKS         |\n",
      "|1439|Hitachi HDS723030ALA640|\n",
      "|1436|WDC WD2500BPVT         |\n",
      "|1432|ST9320325AS            |\n",
      "|1428|TOSHIBA MD04ABA500V    |\n",
      "|1423|Hitachi HDS723030BLE640|\n",
      "|1409|HGST HMS5C4040ALE640   |\n",
      "|1406|WDC WD60EFRX           |\n",
      "|1401|HGST HMS5C4040BLE640   |\n",
      "|1397|HGST HDS724040ALE640   |\n",
      "|1391|ST9250315AS            |\n",
      "|1387|WDC WD5000LPVX         |\n",
      "|1370|TOSHIBA MD04ABA400V    |\n",
      "|1370|ST4000DM000            |\n",
      "+----+-----------------------+\n",
      "only showing top 20 rows\n",
      "\n"
     ]
    }
   ],
   "source": [
    "sqlContext.sql('Select CAST(AVG(DATEDIFF(DayOut, DayIn)) AS DECIMAL(10,0)) as Days, Model from tbl_AllDisksDayInDayOut where Year(DayOut) <= 2020 AND MONTH(DayOut) <= 9 AND DAY(DayOut) < 30 Group by Model order by Days desc').show(20,False)"
   ]
  },
  {
   "cell_type": "markdown",
   "metadata": {},
   "source": [
    "#### Cantidad promedio de días que un dura un disco duro por fabricante"
   ]
  },
  {
   "cell_type": "code",
   "execution_count": 26,
   "metadata": {},
   "outputs": [],
   "source": [
    "daysPerMaker = sqlContext.sql('select Makers.Maker, CAST(AVG(DiskDays.Days) AS Decimal(10,0)) as Days from (Select CAST(AVG(DATEDIFF(DayOut, DayIn)) AS DECIMAL(10,0)) as Days, Model from tbl_AllDisksDayInDayOut Where Year(DayOut) <= 2020 AND MONTH(DayOut) <= 9 AND DAY(DayOut) < 30 Group by Model order by Days desc) as DiskDays inner join (Select Maker, Model from tbl_makers) as Makers on DiskDays.Model = Makers.Model group by Makers.Maker order by Days desc')"
   ]
  },
  {
   "cell_type": "code",
   "execution_count": 27,
   "metadata": {},
   "outputs": [
    {
     "name": "stdout",
     "output_type": "stream",
     "text": [
      "+---------------+----+\n",
      "|          Maker|Days|\n",
      "+---------------+----+\n",
      "|        Hitachi|1027|\n",
      "|Western Digital| 876|\n",
      "|        Toshiba| 835|\n",
      "|        Seagate| 581|\n",
      "|        Samsung| 449|\n",
      "+---------------+----+\n",
      "\n"
     ]
    }
   ],
   "source": [
    "daysPerMaker.show()"
   ]
  },
  {
   "cell_type": "code",
   "execution_count": 28,
   "metadata": {},
   "outputs": [
    {
     "data": {
      "text/plain": [
       "<matplotlib.axes._subplots.AxesSubplot at 0x1da21cb6f40>"
      ]
     },
     "execution_count": 28,
     "metadata": {},
     "output_type": "execute_result"
    },
    {
     "data": {
      "image/png": "[encoded data removed]",
      "text/plain": [
       "<Figure size 432x288 with 1 Axes>"
      ]
     },
     "metadata": {
      "needs_background": "light"
     },
     "output_type": "display_data"
    }
   ],
   "source": [
    "daysPerMaker_pd = daysPerMaker.toPandas()\n",
    "daysPerMaker_pd['Days'] = daysPerMaker_pd['Days'].astype(float)\n",
    "daysPerMaker_pd.plot.bar(x='Maker', y='Days', rot=0)"
   ]
  },
  {
   "cell_type": "markdown",
   "metadata": {},
   "source": [
    "#### Cantidad de discos nuevos que ingresaron por año y tamaño aproximado por disco."
   ]
  },
  {
   "cell_type": "code",
   "execution_count": 29,
   "metadata": {},
   "outputs": [],
   "source": [
    "disksPerYearIn = sqlContext.sql('Select Year(DayIn) as Year, COUNT(Serial_Number) as DriveCount, Sum(SizeInTB) as SizeInTB, Cast(Sum(SizeInTB)/COUNT(Serial_Number) as Decimal(10,2)) as `AVG size per disk` from tbl_AllDisksDayInDayOut Group by Year order by Year asc')"
   ]
  },
  {
   "cell_type": "code",
   "execution_count": 30,
   "metadata": {},
   "outputs": [
    {
     "name": "stdout",
     "output_type": "stream",
     "text": [
      "+----+----------+---------+-----------------+\n",
      "|Year|DriveCount| SizeInTB|AVG size per disk|\n",
      "+----+----------+---------+-----------------+\n",
      "|2013|     29072| 76776.20|             2.64|\n",
      "|2014|     20035|166648.06|             8.32|\n",
      "|2015|     20211| 75692.28|             3.75|\n",
      "|2016|     23030|114172.93|             4.96|\n",
      "|2017|     33516|237143.00|             7.08|\n",
      "|2018|     29849|317317.81|            10.63|\n",
      "|2019|     27790|299931.30|            10.79|\n",
      "|2020|     37723|433749.23|            11.50|\n",
      "+----+----------+---------+-----------------+\n",
      "\n"
     ]
    }
   ],
   "source": [
    "disksPerYearIn.show()"
   ]
  },
  {
   "cell_type": "code",
   "execution_count": 31,
   "metadata": {},
   "outputs": [
    {
     "data": {
      "text/plain": [
       "<matplotlib.axes._subplots.AxesSubplot at 0x1da21d37fd0>"
      ]
     },
     "execution_count": 31,
     "metadata": {},
     "output_type": "execute_result"
    },
    {
     "data": {
      "image/png": "[encoded data removed]",
      "text/plain": [
       "<Figure size 432x288 with 2 Axes>"
      ]
     },
     "metadata": {
      "needs_background": "light"
     },
     "output_type": "display_data"
    }
   ],
   "source": [
    "disksPerYearIn_pd = disksPerYearIn.toPandas()\n",
    "disksPerYearIn_pd = disksPerYearIn_pd[['Year','DriveCount','AVG size per disk']]\n",
    "disksPerYearIn_pd = disksPerYearIn_pd.astype(float)\n",
    "disksPerYearIn_pd.plot(x='Year', secondary_y=['AVG size per disk'])"
   ]
  },
  {
   "cell_type": "markdown",
   "metadata": {},
   "source": [
    "#### Cantidad de discos que se dieron de baja por año."
   ]
  },
  {
   "cell_type": "code",
   "execution_count": 32,
   "metadata": {},
   "outputs": [],
   "source": [
    "disksPerYearOut = sqlContext.sql('Select Year(DayOut) as Year, COUNT(Serial_Number) as Count from tbl_AllDisksDayInDayOut where Year(DayOut) < 2020  Group by Year order by Year asc')"
   ]
  },
  {
   "cell_type": "code",
   "execution_count": 33,
   "metadata": {},
   "outputs": [
    {
     "name": "stdout",
     "output_type": "stream",
     "text": [
      "+----+-----+\n",
      "|Year|Count|\n",
      "+----+-----+\n",
      "|2013| 1273|\n",
      "|2014| 5131|\n",
      "|2015| 4769|\n",
      "|2016| 6397|\n",
      "|2017|13331|\n",
      "|2018|15965|\n",
      "|2019|11363|\n",
      "+----+-----+\n",
      "\n"
     ]
    }
   ],
   "source": [
    "disksPerYearOut.show()"
   ]
  },
  {
   "cell_type": "markdown",
   "metadata": {},
   "source": [
    "#### Cantidad de PB en el Datacenter por modelo de disco duro"
   ]
  },
  {
   "cell_type": "code",
   "execution_count": 34,
   "metadata": {},
   "outputs": [
    {
     "name": "stdout",
     "output_type": "stream",
     "text": [
      "+--------------------+------+----------+\n",
      "|               Model|    PB|DriveCount|\n",
      "+--------------------+------+----------+\n",
      "|       ST12000NM0007|412.63|     38730|\n",
      "| TOSHIBA MG07ACA14TA|217.25|     17476|\n",
      "|       ST12000NM0008|196.78|     18470|\n",
      "|         ST4000DM000|131.55|     37035|\n",
      "|HGST HMS5C4040ALE640|126.33|      8723|\n",
      "|HGST HUH721212ALN604|116.31|     10917|\n",
      "|        ST8000NM0055|106.68|     15006|\n",
      "|         ST8000DM002| 72.67|     10221|\n",
      "|       ST12000NM001G| 65.61|      6158|\n",
      "|HGST HMS5C4040BLE640| 58.11|     16346|\n",
      "|       ST14000NM001G| 29.84|      2400|\n",
      "|HGST HUH721212ALE600| 27.82|      2611|\n",
      "|HGST HUH721212ALE604| 20.36|      1911|\n",
      "|         ST3000DM001| 12.55|      4707|\n",
      "|Hitachi HDS5C3030...| 12.43|      4664|\n",
      "|       ST10000NM0086| 11.09|      1248|\n",
      "|         ST6000DX000| 10.34|      1939|\n",
      "|Hitachi HDS5C4040...|  9.67|      2719|\n",
      "|Hitachi HDS722020...|  8.48|      4774|\n",
      "|HGST HUH728080ALE600|  7.95|      1118|\n",
      "+--------------------+------+----------+\n",
      "only showing top 20 rows\n",
      "\n"
     ]
    }
   ],
   "source": [
    "sqlContext.sql('select Model, CAST(SUM(SizeInTB/1024) AS DECIMAL(10,2)) as PB, Count(1) as DriveCount from tbl_AllDisksDayInDayOut group by model order by PB desc').show()"
   ]
  },
  {
   "cell_type": "markdown",
   "metadata": {},
   "source": [
    "#### Cantidad de PB agregados al Datacenter por año"
   ]
  },
  {
   "cell_type": "code",
   "execution_count": 35,
   "metadata": {},
   "outputs": [],
   "source": [
    "df_TBperYear = sqlContext.sql('Select Year(DayIn) as Year, CAST(SUM(SizeInTB/1024) AS DECIMAL(10,2)) as PB, Count(1) as DriveCount from tbl_AllDisksDayInDayOut group by Year(DayIn) order by Year asc')"
   ]
  },
  {
   "cell_type": "code",
   "execution_count": 36,
   "metadata": {},
   "outputs": [
    {
     "name": "stdout",
     "output_type": "stream",
     "text": [
      "+----+------+----------+\n",
      "|Year|    PB|DriveCount|\n",
      "+----+------+----------+\n",
      "|2013| 74.98|     29072|\n",
      "|2014|162.74|     20035|\n",
      "|2015| 73.92|     20211|\n",
      "|2016|111.50|     23030|\n",
      "|2017|231.59|     33517|\n",
      "|2018|309.88|     29849|\n",
      "|2019|292.90|     27790|\n",
      "|2020|423.58|     37723|\n",
      "+----+------+----------+\n",
      "\n"
     ]
    }
   ],
   "source": [
    "df_TBperYear.show()"
   ]
  },
  {
   "cell_type": "code",
   "execution_count": 37,
   "metadata": {},
   "outputs": [
    {
     "data": {
      "text/plain": [
       "<matplotlib.axes._subplots.AxesSubplot at 0x1da21df7b20>"
      ]
     },
     "execution_count": 37,
     "metadata": {},
     "output_type": "execute_result"
    },
    {
     "data": {
      "image/png": "[encoded data removed]",
      "text/plain": [
       "<Figure size 432x288 with 1 Axes>"
      ]
     },
     "metadata": {
      "needs_background": "light"
     },
     "output_type": "display_data"
    }
   ],
   "source": [
    "df_TBperYear_pd = df_TBperYear.toPandas()\n",
    "df_TBperYear_pd=df_TBperYear_pd.astype(float)\n",
    "df_TBperYear_pd.plot(x='Year', y='PB')"
   ]
  },
  {
   "cell_type": "markdown",
   "metadata": {},
   "source": [
    "#### Cantidad de discos que fallaron vs discos en el data center discriminado por año"
   ]
  },
  {
   "cell_type": "code",
   "execution_count": 38,
   "metadata": {},
   "outputs": [],
   "source": [
    "failuresVSDisks = sqlContext.sql('Select Failures.Year, Count as DiskCount, Failures, CAST(((Failures/Count)*100) AS DECIMAL(10,2)) as Ratio from (select count(distinct Serial_Number) as Count, Year(Date) as Year from tbl_alldiskdata group by Year(date)) as Disks inner Join (select Count(Failure) as Failures, Year(Date) as Year from tbl_alldiskdata where Failure = 1 group by year(Date) order by Year) as Failures on Disks.Year = Failures.Year order by Failures.Year')"
   ]
  },
  {
   "cell_type": "code",
   "execution_count": 39,
   "metadata": {},
   "outputs": [
    {
     "name": "stdout",
     "output_type": "stream",
     "text": [
      "+----+---------+--------+-----+\n",
      "|Year|DiskCount|Failures|Ratio|\n",
      "+----+---------+--------+-----+\n",
      "|2013|    29072|     740| 2.55|\n",
      "|2014|    47793|    2206| 4.62|\n",
      "|2015|    62898|    1429| 2.27|\n",
      "|2016|    81173|    1431| 1.76|\n",
      "|2017|   108282|    1556| 1.44|\n",
      "|2018|   124326|    1381| 1.11|\n",
      "|2019|   136568|    2263| 1.66|\n",
      "|2020|   162997|    1093| 0.67|\n",
      "+----+---------+--------+-----+\n",
      "\n"
     ]
    }
   ],
   "source": [
    "failuresVSDisks.show()"
   ]
  },
  {
   "cell_type": "code",
   "execution_count": 40,
   "metadata": {},
   "outputs": [
    {
     "data": {
      "text/plain": [
       "<matplotlib.axes._subplots.AxesSubplot at 0x1da21e5dfa0>"
      ]
     },
     "execution_count": 40,
     "metadata": {},
     "output_type": "execute_result"
    },
    {
     "data": {
      "image/png": "[encoded data removed]",
      "text/plain": [
       "<Figure size 432x288 with 1 Axes>"
      ]
     },
     "metadata": {
      "needs_background": "light"
     },
     "output_type": "display_data"
    }
   ],
   "source": [
    "failuresVSDisks_pd = failuresVSDisks.toPandas()\n",
    "failuresVSDisks_pd = failuresVSDisks_pd[['Year','DiskCount','Failures']]\n",
    "failuresVSDisks_pd.plot.bar(x='Year', stacked=True)"
   ]
  },
  {
   "cell_type": "markdown",
   "metadata": {},
   "source": [
    "### Proyecciones"
   ]
  },
  {
   "cell_type": "code",
   "execution_count": 41,
   "metadata": {},
   "outputs": [],
   "source": [
    "from sklearn import linear_model\n",
    "from sklearn.metrics import r2_score"
   ]
  },
  {
   "cell_type": "markdown",
   "metadata": {},
   "source": [
    "#### Cantidad de discos estimadas para el año 2021 y 2022"
   ]
  },
  {
   "cell_type": "code",
   "execution_count": 42,
   "metadata": {},
   "outputs": [],
   "source": [
    "y_train = failuresVSDisks_pd['DiskCount'].values\n",
    "x_train = np.array(failuresVSDisks_pd['Year'].values).reshape((-1, 1))\n",
    "regr = linear_model.LinearRegression()\n",
    "regr.fit(x_train, y_train)\n",
    "y_pred = regr.predict(x_train)"
   ]
  },
  {
   "cell_type": "code",
   "execution_count": 43,
   "metadata": {},
   "outputs": [
    {
     "name": "stdout",
     "output_type": "stream",
     "text": [
      "Discos estimados para 2021: 179464\n"
     ]
    }
   ],
   "source": [
    "anio = regr.predict([[2021]])\n",
    "print('Discos estimados para 2021:', int(anio)) "
   ]
  },
  {
   "cell_type": "code",
   "execution_count": 44,
   "metadata": {},
   "outputs": [
    {
     "name": "stdout",
     "output_type": "stream",
     "text": [
      "Discos estimados para 2022: 198425\n"
     ]
    }
   ],
   "source": [
    "anio = regr.predict([[2022]])\n",
    "print('Discos estimados para 2022:', int(anio)) "
   ]
  },
  {
   "cell_type": "code",
   "execution_count": 45,
   "metadata": {},
   "outputs": [
    {
     "name": "stdout",
     "output_type": "stream",
     "text": [
      "Coefficients: \n",
      " [18961.22619048]\n",
      "Independent term: \n",
      " -38141173.98809524\n",
      "Variance score: 0.99\n"
     ]
    }
   ],
   "source": [
    "# Veamos los coeficienetes obtenidos, En nuestro caso, serán la Tangente\n",
    "print('Coefficients: \\n', regr.coef_)\n",
    "# Este es el valor donde corta el eje Y (en X=0)\n",
    "print('Independent term: \\n', regr.intercept_)\n",
    "# Puntaje de Varianza. El mejor puntaje es un 1.0\n",
    "print('Variance score: %.2f' % r2_score(y_train, y_pred))"
   ]
  },
  {
   "cell_type": "markdown",
   "metadata": {},
   "source": [
    "#### Fallas de discos calculadas para 2021"
   ]
  },
  {
   "cell_type": "code",
   "execution_count": 46,
   "metadata": {},
   "outputs": [
    {
     "name": "stdout",
     "output_type": "stream",
     "text": [
      "Discos a reemplazarse en 2021: 1659\n"
     ]
    }
   ],
   "source": [
    "y_train = failuresVSDisks_pd['Failures'].values\n",
    "x_train = np.array(failuresVSDisks_pd['Year'].values).reshape((-1, 1))\n",
    "regr = linear_model.LinearRegression()\n",
    "regr.fit(x_train, y_train)\n",
    "y_pred = regr.predict(x_train)\n",
    "anio = regr.predict([[2021]])\n",
    "print('Discos a reemplazarse en 2021:', int(anio)) "
   ]
  },
  {
   "cell_type": "code",
   "execution_count": null,
   "metadata": {},
   "outputs": [],
   "source": []
  }
 ],
 "metadata": {
  "celltoolbar": "Raw Cell Format",
  "kernelspec": {
   "display_name": "Python 3",
   "language": "python",
   "name": "python3"
  },
  "language_info": {
   "codemirror_mode": {
    "name": "ipython",
    "version": 3
   },
   "file_extension": ".py",
   "mimetype": "text/x-python",
   "name": "python",
   "nbconvert_exporter": "python",
   "pygments_lexer": "ipython3",
   "version": "3.8.3"
  }
 },
 "nbformat": 4,
 "nbformat_minor": 4
}
