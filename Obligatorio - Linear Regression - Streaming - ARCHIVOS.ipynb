{
 "cells": [
  {
   "cell_type": "code",
   "execution_count": null,
   "metadata": {},
   "outputs": [],
   "source": [
    "import sys\n",
    "import calendar\n",
    "from datetime import datetime, date, time, timedelta\n",
    "from datetime import datetime\n",
    "from pyspark import SparkContext\n",
    "from pyspark.streaming import StreamingContext\n",
    "from pyspark.mllib.linalg import Vectors\n",
    "from pyspark.mllib.regression import LabeledPoint\n",
    "from pyspark.mllib.regression import StreamingLinearRegressionWithSGD\n"
   ]
  },
  {
   "cell_type": "code",
   "execution_count": null,
   "metadata": {},
   "outputs": [],
   "source": [
    "sc = SparkContext(appName=\"PythonLogisticRegressionWithLBFGSExample\")\n",
    "ssc = StreamingContext(sc, 4)\n"
   ]
  },
  {
   "cell_type": "code",
   "execution_count": null,
   "metadata": {},
   "outputs": [],
   "source": [
    "################ ARCHIVOS DESDE FILE SYSTEM DE WINDOWS ###############\n",
    "\n",
    "ruta_data_training = 'file:///C://Users//Usuario//TATR-2020//Streaming//aa.txt'\n",
    "ruta_data_test = 'file:///C://Users//Usuario//TATR-2020//Streaming//aa.txt'"
   ]
  },
  {
   "cell_type": "code",
   "execution_count": null,
   "metadata": {},
   "outputs": [],
   "source": [
    "############## ARCHIVOS DESDE HADOOP FILE SYSTEM ###################\n",
    "\n",
    "#ruta_data_training = '/obligatorio/b.txt'\n",
    "#ruta_data_test = '/obligatorio/a.txt'"
   ]
  },
  {
   "cell_type": "code",
   "execution_count": null,
   "metadata": {},
   "outputs": [],
   "source": [
    "def splitData(lp):\n",
    "        vec= []\n",
    "        vec = (lp.split('\\t'))\n",
    "        return vec"
   ]
  },
  {
   "cell_type": "code",
   "execution_count": null,
   "metadata": {},
   "outputs": [],
   "source": [
    "def parseData(vec):\n",
    "       \n",
    "        resultado = []\n",
    "        fecha = datetime.strptime(vec[0], '%Y-%m-%d')\n",
    "        intFecha = int(fecha.strftime('%Y%m%d'))\n",
    "        resultado.append(intFecha)\n",
    "        vhora = vec[1].split(' ')\n",
    "        hora = datetime.strptime(vhora[1], '%H:%M:%S')\n",
    "        intHora = int(hora.strftime('%H%M%S'))\n",
    "        resultado.append(intHora)\n",
    "                \n",
    "        for i in range(2,9):\n",
    "            resultado.append(float(vec[i]))\n",
    "        return resultado\n",
    "    "
   ]
  },
  {
   "cell_type": "code",
   "execution_count": null,
   "metadata": {},
   "outputs": [],
   "source": [
    "def RDDisNumecir(rdd):\n",
    "    resultado = []\n",
    "    try:\n",
    "        resultado = []\n",
    "        fecha = datetime.strptime(rdd[0], '%d/%m/%Y')\n",
    "        intFecha = int(fecha.strftime('%d%m'))\n",
    "        resultado.append(intFecha)\n",
    "        hora = datetime.strptime(rdd[1], '%H:%M:%S')\n",
    "        intHora = int(hora.strftime('%H%M%S'))\n",
    "        resultado.append(intHora)\n",
    "        for i in range(2,9):\n",
    "                resultado.append(float(rdd[i]))\n",
    "        return resultado\n",
    "    except:\n",
    "        logDato(rdd)\n",
    "        error = []\n",
    "        log = []\n",
    "        for i in range(0,9):\n",
    "            error.append('?')\n",
    "        \n",
    "        return error"
   ]
  },
  {
   "cell_type": "code",
   "execution_count": null,
   "metadata": {},
   "outputs": [],
   "source": [
    "def labeledData(vec):\n",
    "    \n",
    "        label = vec[8]\n",
    "        \n",
    "        resultado =[]\n",
    "        for i in range(0,8):\n",
    "            resultado.append(float(vec[i]))\n",
    "        features = Vectors.dense(resultado)\n",
    "        return LabeledPoint(label, features)\n",
    "                                               \n",
    "                                                  "
   ]
  },
  {
   "cell_type": "code",
   "execution_count": null,
   "metadata": {},
   "outputs": [],
   "source": [
    "trainingData = sc.textFile(ruta_data_training)"
   ]
  },
  {
   "cell_type": "code",
   "execution_count": null,
   "metadata": {},
   "outputs": [],
   "source": [
    "testingData = sc.textFile(ruta_data_test)"
   ]
  },
  {
   "cell_type": "code",
   "execution_count": null,
   "metadata": {},
   "outputs": [],
   "source": [
    "split_data = trainingData.map(splitData)\n",
    "split_test_data = testingData.map(splitData)"
   ]
  },
  {
   "cell_type": "code",
   "execution_count": null,
   "metadata": {},
   "outputs": [],
   "source": [
    "split_data.collect()"
   ]
  },
  {
   "cell_type": "code",
   "execution_count": null,
   "metadata": {},
   "outputs": [],
   "source": [
    "split_test_data.collect()"
   ]
  },
  {
   "cell_type": "code",
   "execution_count": null,
   "metadata": {},
   "outputs": [],
   "source": [
    "#################### DATA CLEANING ###################################################################"
   ]
  },
  {
   "cell_type": "code",
   "execution_count": null,
   "metadata": {},
   "outputs": [],
   "source": [
    "ctr_filtro_1 = split_data.filter(lambda x: x[2] != '?') \\\n",
    "                     .filter(lambda x: x[3] != '?') \\\n",
    "                     .filter(lambda x: x[4] != '?') \\\n",
    "                     .filter(lambda x: x[5] != '?') \\\n",
    "                     .filter(lambda x: x[6] != '?') \\\n",
    "                     .filter(lambda x: x[7] != '?') \\\n",
    "                     .filter(lambda x: x[8] != '?')"
   ]
  },
  {
   "cell_type": "code",
   "execution_count": null,
   "metadata": {},
   "outputs": [],
   "source": [
    "ctr_filtro_2 = ctr_filtro_1.filter(lambda x: x[2] != ' ') \\\n",
    "                       .filter(lambda x: x[3] != ' ') \\\n",
    "                       .filter(lambda x: x[4] != ' ') \\\n",
    "                       .filter(lambda x: x[5] != ' ') \\\n",
    "                       .filter(lambda x: x[6] != ' ') \\\n",
    "                       .filter(lambda x: x[7] != ' ') \\\n",
    "                       .filter(lambda x: x[8] != ' ')"
   ]
  },
  {
   "cell_type": "code",
   "execution_count": null,
   "metadata": {},
   "outputs": [],
   "source": [
    "ctr_filtro_3 = ctr_filtro_2.filter(lambda x: x[2] != '') \\\n",
    "                       .filter(lambda x: x[3] != '') \\\n",
    "                       .filter(lambda x: x[4] != '') \\\n",
    "                       .filter(lambda x: x[5] != '') \\\n",
    "                       .filter(lambda x: x[6] != '') \\\n",
    "                       .filter(lambda x: x[7] != '') \\\n",
    "                       .filter(lambda x: x[8] != '')"
   ]
  },
  {
   "cell_type": "code",
   "execution_count": null,
   "metadata": {},
   "outputs": [],
   "source": [
    "ctr_filtro_test_1 = split_test_data.filter(lambda x: x[2] != '?') \\\n",
    "                     .filter(lambda x: x[3] != '?') \\\n",
    "                     .filter(lambda x: x[4] != '?') \\\n",
    "                     .filter(lambda x: x[5] != '?') \\\n",
    "                     .filter(lambda x: x[6] != '?') \\\n",
    "                     .filter(lambda x: x[7] != '?') \\\n",
    "                     .filter(lambda x: x[8] != '?')"
   ]
  },
  {
   "cell_type": "code",
   "execution_count": null,
   "metadata": {},
   "outputs": [],
   "source": [
    "ctr_filtro_test_2 = ctr_filtro_test_1.filter(lambda x: x[2] != ' ') \\\n",
    "                       .filter(lambda x: x[3] != ' ') \\\n",
    "                       .filter(lambda x: x[4] != ' ') \\\n",
    "                       .filter(lambda x: x[5] != ' ') \\\n",
    "                       .filter(lambda x: x[6] != ' ') \\\n",
    "                       .filter(lambda x: x[7] != ' ') \\\n",
    "                       .filter(lambda x: x[8] != ' ')"
   ]
  },
  {
   "cell_type": "code",
   "execution_count": null,
   "metadata": {},
   "outputs": [],
   "source": [
    "ctr_filtro_test_3 = ctr_filtro_test_2.filter(lambda x: x[2] != '') \\\n",
    "                       .filter(lambda x: x[3] != '') \\\n",
    "                       .filter(lambda x: x[4] != '') \\\n",
    "                       .filter(lambda x: x[5] != '') \\\n",
    "                       .filter(lambda x: x[6] != '') \\\n",
    "                       .filter(lambda x: x[7] != '') \\\n",
    "                       .filter(lambda x: x[8] != '')"
   ]
  },
  {
   "cell_type": "code",
   "execution_count": null,
   "metadata": {},
   "outputs": [],
   "source": [
    "parseo_data_test = ctr_filtro_test_3.map(parseData)"
   ]
  },
  {
   "cell_type": "code",
   "execution_count": null,
   "metadata": {},
   "outputs": [],
   "source": [
    "parseo_data = ctr_filtro_3.map(parseData)"
   ]
  },
  {
   "cell_type": "code",
   "execution_count": null,
   "metadata": {},
   "outputs": [],
   "source": [
    "parseo_data.collect()"
   ]
  },
  {
   "cell_type": "code",
   "execution_count": null,
   "metadata": {},
   "outputs": [],
   "source": [
    "parseo_data_test.collect()"
   ]
  },
  {
   "cell_type": "code",
   "execution_count": null,
   "metadata": {},
   "outputs": [],
   "source": [
    "#################### PROCESAMIENTO DE STREAMING / ALERTAS ###################################"
   ]
  },
  {
   "cell_type": "code",
   "execution_count": null,
   "metadata": {},
   "outputs": [],
   "source": [
    "def alerta_voltaje(rdd):\n",
    "    \n",
    "    alerta = rdd.filter(lambda x: x[4] > 240) \n",
    "    if not alerta.isEmpty():\n",
    "        print(\"------------------------ALERTA: EXCESO DE VOLTAJE ------------------------\")\n",
    "        print(alerta)\n",
    "        print ('Registro: {0}'.format(alerta.collect()))\n",
    "    else:\n",
    "        print(\"------------------------VOLTAJE SIN ALERTAS-------------------------------\")\n"
   ]
  },
  {
   "cell_type": "code",
   "execution_count": null,
   "metadata": {},
   "outputs": [],
   "source": [
    "def alerta_intensidad(rdd):\n",
    "    \n",
    "    alerta = rdd.filter(lambda x: x[5] > 50) \n",
    "    if not alerta.isEmpty():\n",
    "        print(\"------------------------ALERTA: EXCESO DE INTENSIDAD ------------------------\")\n",
    "        print(alerta)\n",
    "        print ('Registro: {0}'.format(alerta.collect()))\n",
    "    else:\n",
    "        print(\"------------------------INTENSIDAD SIN ALERTAS-------------------------------\")\n"
   ]
  },
  {
   "cell_type": "code",
   "execution_count": null,
   "metadata": {},
   "outputs": [],
   "source": [
    "def alerta_ExcesoConsumoSub1(rdd):\n",
    "    \n",
    "    alerta = rdd.filter(lambda x: x[6] > 80) \n",
    "    if not alerta.isEmpty():\n",
    "        print(\"------------------------ALERTA: EXCESO DE CONSUMO SUB-1 ------------------------\")\n",
    "        print(alerta)\n",
    "        print ('Registro: {0}'.format(alerta.collect()))\n",
    "    else:\n",
    "        print(\"------------------------EXCESO DE CONSUMO SUB-1 SIN ALERTAS-------------------------------\")\n"
   ]
  },
  {
   "cell_type": "code",
   "execution_count": null,
   "metadata": {},
   "outputs": [],
   "source": [
    "################### ENTRENAMIENTO DE MODELO ##########################################################"
   ]
  },
  {
   "cell_type": "code",
   "execution_count": null,
   "metadata": {},
   "outputs": [],
   "source": [
    "trainingData = parseo_data.map(labeledData)"
   ]
  },
  {
   "cell_type": "code",
   "execution_count": null,
   "metadata": {},
   "outputs": [],
   "source": [
    "testingData = parseo_data_test.map(labeledData)"
   ]
  },
  {
   "cell_type": "code",
   "execution_count": null,
   "metadata": {},
   "outputs": [],
   "source": [
    "trainingData.collect()"
   ]
  },
  {
   "cell_type": "code",
   "execution_count": null,
   "metadata": {
    "scrolled": true
   },
   "outputs": [],
   "source": [
    "testingData.collect()"
   ]
  },
  {
   "cell_type": "code",
   "execution_count": null,
   "metadata": {},
   "outputs": [],
   "source": [
    "trainingQueue = [trainingData]  \n",
    "testingQueue = [testingData]\n",
    "ctrlQueue = [parseo_data]"
   ]
  },
  {
   "cell_type": "code",
   "execution_count": null,
   "metadata": {},
   "outputs": [],
   "source": [
    "trainingStream = ssc.queueStream(trainingQueue)\n",
    "testingStream = ssc.queueStream(testingQueue)\n",
    "ctrlQueue = ssc.queueStream(ctrlQueue)"
   ]
  },
  {
   "cell_type": "code",
   "execution_count": null,
   "metadata": {},
   "outputs": [],
   "source": [
    "numFeatures = 8\n",
    "model = StreamingLinearRegressionWithSGD()\n",
    "model.setInitialWeights([0.2, 0.1, 0.5, 0.1, 0.5, 0.6, 0.3, 0.1])"
   ]
  },
  {
   "cell_type": "code",
   "execution_count": null,
   "metadata": {},
   "outputs": [],
   "source": [
    "model.trainOn(trainingStream)\n"
   ]
  },
  {
   "cell_type": "code",
   "execution_count": null,
   "metadata": {},
   "outputs": [],
   "source": [
    "result_training = model.predictOnValues(trainingStream.map(lambda lp: (lp.label, lp.features)))\n",
    "result_training.pprint()"
   ]
  },
  {
   "cell_type": "code",
   "execution_count": null,
   "metadata": {},
   "outputs": [],
   "source": [
    "result_testing = model.predictOnValues(testingStream.map(lambda lp: (lp.label, lp.features)))\n",
    "result_testing.pprint()"
   ]
  },
  {
   "cell_type": "code",
   "execution_count": null,
   "metadata": {},
   "outputs": [],
   "source": [
    "###### GUARDAR PREDICCION EN HADOOP FILE SYSTEMA ##################################\n",
    "\n",
    "#def toCSVLine(data):\n",
    "#     return ','.join(str(d) for d in data)\n",
    "#\n",
    "#lineCSV = result.map(toCSVLine)\n",
    "########ESTA LINEA NO FUNCIONA #######  lineCSV.saveAsTextFile('hdfs://my-node:9000/tmp/labels-and-predictions.csv')\n",
    "#saved_data = lineCSV.foreachRDD(lambda row: row.saveAsTextFile(\"/obligatorio/resultado.csv\"))"
   ]
  },
  {
   "cell_type": "code",
   "execution_count": null,
   "metadata": {},
   "outputs": [],
   "source": [
    "####### METRICA ##############################################333\n",
    "\n",
    "#MSE = result \\\n",
    "#    .map(lambda vb: (vb[0] - vb[1])**2) \\\n",
    "#    .reduce(lambda x, y:x+y)\n",
    "#MSE.pprint()"
   ]
  },
  {
   "cell_type": "code",
   "execution_count": null,
   "metadata": {},
   "outputs": [],
   "source": [
    "alerta1 = ctrlQueue.foreachRDD(lambda row: alerta_voltaje(row))\n",
    "alerta2 = ctrlQueue.foreachRDD(lambda row: alerta_intensidad(row))\n",
    "alerta3 = ctrlQueue.foreachRDD(lambda row: alerta_ExcesoConsumoSub1(row))"
   ]
  },
  {
   "cell_type": "code",
   "execution_count": null,
   "metadata": {
    "scrolled": false
   },
   "outputs": [],
   "source": [
    "ssc.start()\n",
    "ssc.awaitTermination()"
   ]
  },
  {
   "cell_type": "code",
   "execution_count": null,
   "metadata": {},
   "outputs": [],
   "source": []
  },
  {
   "cell_type": "code",
   "execution_count": null,
   "metadata": {},
   "outputs": [],
   "source": []
  }
 ],
 "metadata": {
  "kernelspec": {
   "display_name": "Python 3",
   "language": "python",
   "name": "python3"
  },
  "language_info": {
   "codemirror_mode": {
    "name": "ipython",
    "version": 3
   },
   "file_extension": ".py",
   "mimetype": "text/x-python",
   "name": "python",
   "nbconvert_exporter": "python",
   "pygments_lexer": "ipython3",
   "version": "3.8.3"
  }
 },
 "nbformat": 4,
 "nbformat_minor": 2
}
