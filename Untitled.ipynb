{
 "cells": [
  {
   "cell_type": "code",
   "execution_count": 1,
   "metadata": {},
   "outputs": [],
   "source": [
    "import os\n",
    "import pyspark\n",
    "import random\n",
    "\n",
    "memory = '20g'\n",
    "pyspark_submit_args = ' --driver-memory ' + memory + ' pyspark-shell'\n",
    "os.environ[\"PYSPARK_SUBMIT_ARGS\"] = pyspark_submit_args\n",
    "\n",
    "sc = pyspark.SparkContext('local[*]')"
   ]
  },
  {
   "cell_type": "code",
   "execution_count": 2,
   "metadata": {},
   "outputs": [
    {
     "name": "stdout",
     "output_type": "stream",
     "text": [
      "C:\\Progra~1\\Java\\jre1.8.0_271\n"
     ]
    }
   ],
   "source": [
    "echo %JAVA_HOME%"
   ]
  },
  {
   "cell_type": "code",
   "execution_count": 3,
   "metadata": {},
   "outputs": [],
   "source": [
    "from pyspark.sql.types import StructType, DateType, IntegerType, StringType, DoubleType, BooleanType\n",
    "from pyspark.sql.functions import datediff"
   ]
  },
  {
   "cell_type": "code",
   "execution_count": 4,
   "metadata": {},
   "outputs": [],
   "source": [
    "sqlContext = pyspark.SQLContext(sc)"
   ]
  },
  {
   "cell_type": "code",
   "execution_count": 6,
   "metadata": {},
   "outputs": [],
   "source": [
    "schema = StructType() \\\n",
    "      .add(\"Date\", DateType(),True) \\\n",
    "      .add(\"Serial_Number\",StringType(),True) \\\n",
    "      .add(\"Model\",StringType(),True) \\\n",
    "      .add(\"Capacity\",DoubleType(),True) \\\n",
    "      .add(\"Failure\",IntegerType(),True)"
   ]
  },
  {
   "cell_type": "code",
   "execution_count": 7,
   "metadata": {},
   "outputs": [],
   "source": [
    "dia = sqlContext.read.options(header='True', delimiter=',') \\\n",
    "        .schema(schema) \\\n",
    "        .csv(\"../bigdata/**\")"
   ]
  },
  {
   "cell_type": "code",
   "execution_count": 8,
   "metadata": {},
   "outputs": [],
   "source": [
    "dia.registerTempTable(\"diskData\")"
   ]
  },
  {
   "cell_type": "code",
   "execution_count": 9,
   "metadata": {},
   "outputs": [
    {
     "name": "stdout",
     "output_type": "stream",
     "text": [
      "+--------+---------+-----------+\n",
      "|database|tableName|isTemporary|\n",
      "+--------+---------+-----------+\n",
      "|        | diskdata|       true|\n",
      "+--------+---------+-----------+\n",
      "\n"
     ]
    }
   ],
   "source": [
    "sqlContext.sql('show tables').show()"
   ]
  },
  {
   "cell_type": "code",
   "execution_count": 11,
   "metadata": {},
   "outputs": [
    {
     "name": "stdout",
     "output_type": "stream",
     "text": [
      "+--------------------------------+--------------------+\n",
      "|CAST(avg(Diff) AS DECIMAL(10,2))|               Model|\n",
      "+--------------------------------+--------------------+\n",
      "|                         1353.36|         ST9250315AS|\n",
      "|                         1575.19|         ST4000DM000|\n",
      "|                          299.85|        WDC WD30EZRX|\n",
      "|                          327.00|      WDC WD5000AAJS|\n",
      "|                          793.39|       ST12000NM0007|\n",
      "|                          733.59|         ST8000DM005|\n",
      "|                          777.20|          ST320LT007|\n",
      "|                         1021.00|         ST3500320AS|\n",
      "|                          850.20| TOSHIBA MQ01ABF050M|\n",
      "|                          951.67|      WDC WD5002ABYS|\n",
      "|                         1152.00|      WDC WD2500BEVT|\n",
      "|                         1142.29|        ST8000NM0055|\n",
      "|                         1487.26|Hitachi HDS5C3030...|\n",
      "|                          313.75|         ST2000DM001|\n",
      "|                          568.50|Seagate BarraCuda...|\n",
      "|                          169.95| TOSHIBA MG07ACA14TA|\n",
      "|                         1380.65|        WDC WD60EFRX|\n",
      "|                          803.50|         ST1500DL001|\n",
      "|                         1421.54|         ST8000DM002|\n",
      "|                          572.47|         ST4000DM005|\n",
      "+--------------------------------+--------------------+\n",
      "only showing top 20 rows\n",
      "\n"
     ]
    }
   ],
   "source": [
    "sqlContext.sql('Select CAST(AVG(Diff) AS DECIMAL(10,2)), Model from (Select DATEDIFF(Max(Date), Min(Date)) as Diff, Serial_Number, Model from diskData group by Serial_Number, Model order by Model) As TableB Group by Model').show()"
   ]
  },
  {
   "cell_type": "code",
   "execution_count": null,
   "metadata": {},
   "outputs": [],
   "source": []
  }
 ],
 "metadata": {
  "kernelspec": {
   "display_name": "Python 3",
   "language": "python",
   "name": "python3"
  },
  "language_info": {
   "codemirror_mode": {
    "name": "ipython",
    "version": 3
   },
   "file_extension": ".py",
   "mimetype": "text/x-python",
   "name": "python",
   "nbconvert_exporter": "python",
   "pygments_lexer": "ipython3",
   "version": "3.8.3"
  }
 },
 "nbformat": 4,
 "nbformat_minor": 4
}
