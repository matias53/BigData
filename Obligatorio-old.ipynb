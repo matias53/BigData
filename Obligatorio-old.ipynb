{
 "cells": [
  {
   "cell_type": "code",
   "execution_count": 2,
   "metadata": {},
   "outputs": [],
   "source": [
    "import pyspark\n",
    "sc = pyspark.SparkContext('local[*]')"
   ]
  },
  {
   "cell_type": "code",
   "execution_count": 3,
   "metadata": {},
   "outputs": [],
   "source": [
    "from pyspark.sql.types import StructType, DateType, IntegerType, StringType, DoubleType, BooleanType"
   ]
  },
  {
   "cell_type": "code",
   "execution_count": 4,
   "metadata": {},
   "outputs": [],
   "source": [
    "from pyspark.sql.functions import datediff"
   ]
  },
  {
   "cell_type": "code",
   "execution_count": 5,
   "metadata": {},
   "outputs": [],
   "source": [
    "sqlContext = pyspark.SQLContext(sc)"
   ]
  },
  {
   "cell_type": "markdown",
   "metadata": {},
   "source": [
    "Date – The date of the file in yyyy-mm-dd format.\n",
    "\n",
    "Serial Number – The manufacturer-assigned serial number of the drive.\n",
    "\n",
    "Model – The manufacturer-assigned model number of the drive.\n",
    "\n",
    "Capacity – The drive capacity in bytes.\n",
    "\n",
    "Failure – Contains a “0” if the drive is OK. Contains a “1” if this is the last day the drive was operational before failing.\n"
   ]
  },
  {
   "cell_type": "code",
   "execution_count": 6,
   "metadata": {},
   "outputs": [],
   "source": [
    "schema = StructType() \\\n",
    "      .add(\"Date\", DateType(),True) \\\n",
    "      .add(\"Serial_Number\",StringType(),True) \\\n",
    "      .add(\"Model\",StringType(),True) \\\n",
    "      .add(\"Capacity\",DoubleType(),True) \\\n",
    "      .add(\"Failure\",IntegerType(),True)"
   ]
  },
  {
   "cell_type": "code",
   "execution_count": 7,
   "metadata": {},
   "outputs": [],
   "source": [
    "dia = sqlContext.read.options(header='True', delimiter=',') \\\n",
    "        .schema(schema) \\\n",
    "        .csv(\"../bigdata/**\")"
   ]
  },
  {
   "cell_type": "code",
   "execution_count": 8,
   "metadata": {},
   "outputs": [
    {
     "name": "stdout",
     "output_type": "stream",
     "text": [
      "root\n",
      " |-- Date: date (nullable = true)\n",
      " |-- Serial_Number: string (nullable = true)\n",
      " |-- Model: string (nullable = true)\n",
      " |-- Capacity: double (nullable = true)\n",
      " |-- Failure: integer (nullable = true)\n",
      "\n"
     ]
    }
   ],
   "source": [
    "dia.printSchema()"
   ]
  },
  {
   "cell_type": "code",
   "execution_count": 9,
   "metadata": {},
   "outputs": [],
   "source": [
    "dia.registerTempTable(\"diskData\")"
   ]
  },
  {
   "cell_type": "code",
   "execution_count": 10,
   "metadata": {},
   "outputs": [
    {
     "name": "stdout",
     "output_type": "stream",
     "text": [
      "+--------+---------+-----------+\n",
      "|database|tableName|isTemporary|\n",
      "+--------+---------+-----------+\n",
      "|        | diskdata|       true|\n",
      "+--------+---------+-----------+\n",
      "\n"
     ]
    }
   ],
   "source": [
    "sqlContext.sql('show tables').show()"
   ]
  },
  {
   "cell_type": "markdown",
   "metadata": {},
   "source": [
    "Cantidad de discos por modelo que existen."
   ]
  },
  {
   "cell_type": "code",
   "execution_count": null,
   "metadata": {},
   "outputs": [],
   "source": [
    "sqlContext.sql('Select Count(1) as Cuenta, Model from diskData group by Model, Serial_Number order by Cuenta desc')\\\n",
    "          .coalesce(1)\\\n",
    "          .write.format(\"parquet\")\\\n",
    "          .save(\"output/parquet/transacciones\", mode=\"OVERWRITE\")"
   ]
  },
  {
   "cell_type": "code",
   "execution_count": null,
   "metadata": {},
   "outputs": [],
   "source": []
  },
  {
   "cell_type": "raw",
   "metadata": {},
   "source": [
    "Listar la cantidad maxima de días que un dura un disco duro en operacion según su modelo."
   ]
  },
  {
   "cell_type": "code",
   "execution_count": 16,
   "metadata": {},
   "outputs": [
    {
     "name": "stdout",
     "output_type": "stream",
     "text": [
      "+--------------------------------+--------------------+\n",
      "|CAST(avg(Diff) AS DECIMAL(10,2))|               Model|\n",
      "+--------------------------------+--------------------+\n",
      "|                         1353.36|         ST9250315AS|\n",
      "|                         1575.19|         ST4000DM000|\n",
      "|                          299.85|        WDC WD30EZRX|\n",
      "|                          327.00|      WDC WD5000AAJS|\n",
      "|                          793.39|       ST12000NM0007|\n",
      "|                          733.59|         ST8000DM005|\n",
      "|                          777.20|          ST320LT007|\n",
      "|                         1021.00|         ST3500320AS|\n",
      "|                          850.20| TOSHIBA MQ01ABF050M|\n",
      "|                          951.67|      WDC WD5002ABYS|\n",
      "|                         1152.00|      WDC WD2500BEVT|\n",
      "|                         1142.29|        ST8000NM0055|\n",
      "|                         1487.26|Hitachi HDS5C3030...|\n",
      "|                          313.75|         ST2000DM001|\n",
      "|                          568.50|Seagate BarraCuda...|\n",
      "|                          169.95| TOSHIBA MG07ACA14TA|\n",
      "|                         1380.65|        WDC WD60EFRX|\n",
      "|                          803.50|         ST1500DL001|\n",
      "|                         1421.54|         ST8000DM002|\n",
      "|                          572.47|         ST4000DM005|\n",
      "+--------------------------------+--------------------+\n",
      "only showing top 20 rows\n",
      "\n"
     ]
    }
   ],
   "source": [
    "sqlContext.sql('Select CAST(AVG(Diff) AS DECIMAL(10,2)), Model from (Select DATEDIFF(Max(Date), Min(Date)) as Diff, Serial_Number, Model from diskData group by Serial_Number, Model order by Model) As TableB Group by Model').show()"
   ]
  },
  {
   "cell_type": "code",
   "execution_count": null,
   "metadata": {},
   "outputs": [],
   "source": []
  },
  {
   "cell_type": "markdown",
   "metadata": {},
   "source": [
    "Cuantos días duran los discos duros segun su modelo en promedio"
   ]
  },
  {
   "cell_type": "markdown",
   "metadata": {},
   "source": [
    "Cantidad de GB por modelo de disco duro"
   ]
  },
  {
   "cell_type": "code",
   "execution_count": null,
   "metadata": {},
   "outputs": [],
   "source": [
    "Modelo de disco más confiable por año"
   ]
  },
  {
   "cell_type": "markdown",
   "metadata": {},
   "source": [
    "Modelo de disco menos confiable por año"
   ]
  },
  {
   "cell_type": "code",
   "execution_count": null,
   "metadata": {},
   "outputs": [],
   "source": [
    "sqlContext.sql('select DISTINCT count(1) as Cuenta, Model from diskData where group by Model, Serial_Number order by Cuenta desc').show(150)"
   ]
  },
  {
   "cell_type": "code",
   "execution_count": null,
   "metadata": {},
   "outputs": [],
   "source": [
    "sqlContext.sql('select Serial_Number, count(1) from diskData group by Serial_Number order by count(1) desc').show(150)"
   ]
  },
  {
   "cell_type": "code",
   "execution_count": null,
   "metadata": {},
   "outputs": [],
   "source": [
    "sqlContext.sql('select Date, Serial_Number, Model, Capacity, Failure from diskData where Failure = 1 and month(Date) = 2 and year(Date)=2020').show()"
   ]
  },
  {
   "cell_type": "code",
   "execution_count": null,
   "metadata": {},
   "outputs": [],
   "source": [
    "selectedData = dia.select(\"Date\", \"Serial_Number\")"
   ]
  },
  {
   "cell_type": "code",
   "execution_count": null,
   "metadata": {},
   "outputs": [],
   "source": [
    "selectedData.write.csv('test2.csv')"
   ]
  },
  {
   "cell_type": "code",
   "execution_count": null,
   "metadata": {},
   "outputs": [],
   "source": []
  }
 ],
 "metadata": {
  "kernelspec": {
   "display_name": "Python 3",
   "language": "python",
   "name": "python3"
  },
  "language_info": {
   "codemirror_mode": {
    "name": "ipython",
    "version": 3
   },
   "file_extension": ".py",
   "mimetype": "text/x-python",
   "name": "python",
   "nbconvert_exporter": "python",
   "pygments_lexer": "ipython3",
   "version": "3.8.3"
  }
 },
 "nbformat": 4,
 "nbformat_minor": 4
}
